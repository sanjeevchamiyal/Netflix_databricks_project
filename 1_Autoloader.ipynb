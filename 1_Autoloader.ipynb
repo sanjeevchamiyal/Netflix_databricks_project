{
 "cells": [
  {
   "cell_type": "code",
   "execution_count": 0,
   "metadata": {
    "application/vnd.databricks.v1+cell": {
     "cellMetadata": {
      "byteLimit": 2048000,
      "rowLimit": 10000
     },
     "inputWidgets": {},
     "nuid": "ec61581a-db31-467f-92bb-f5f69205083c",
     "showTitle": false,
     "tableResultSettingsMap": {},
     "title": ""
    }
   },
   "outputs": [],
   "source": [
    "\n",
    "storage_account_name = \"netflixprojectdlt\"\n",
    "\n",
    "# List of containers you need to mount\n",
    "containers = [\"bronze\", \"silver\", \"gold\", \"raw\" , \"metastore\"]\n",
    "\n",
    "# SAS token for authentication (Ensure it's valid)\n",
    "sas_token = \"sv=2022-11-02&ss=bfqt&srt=sco&sp=rwdlacupyx&se=2025-03-15T00:39:21Z&st=2025-03-14T16:39:21Z&spr=https&sig=TTa9xSA0VufPqqFCIbTRwvCilFNBFcIUM9gd1WhhGC8%3D\"\n",
    "\n",
    "# Loop through each container and mount it\n",
    "for container in containers:\n",
    "    mount_point = f\"/mnt/{container}\"  # Define the mount point\n",
    "\n",
    "    # Unmount if already mounted\n",
    "    if any(mount.mountPoint == mount_point for mount in dbutils.fs.mounts()):\n",
    "        dbutils.fs.unmount(mount_point)\n",
    "        print(f\"Unmounted existing mount: {mount_point}\")\n",
    "\n",
    "    # Mount the container\n",
    "    dbutils.fs.mount(\n",
    "        source=f\"wasbs://{container}@{storage_account_name}.blob.core.windows.net\",\n",
    "        mount_point=mount_point,\n",
    "        extra_configs={f\"fs.azure.sas.{container}.{storage_account_name}.blob.core.windows.net\": sas_token}\n",
    "    )\n",
    "    print(f\"Mounted {container} successfully at {mount_point}\")\n"
   ]
  },
  {
   "cell_type": "code",
   "execution_count": 0,
   "metadata": {
    "application/vnd.databricks.v1+cell": {
     "cellMetadata": {
      "byteLimit": 2048000,
      "rowLimit": 10000
     },
     "inputWidgets": {},
     "nuid": "85019e17-50b9-4b0a-8756-252a79105c9b",
     "showTitle": false,
     "tableResultSettingsMap": {},
     "title": ""
    }
   },
   "outputs": [],
   "source": [
    "display(dbutils.fs.mounts())\n"
   ]
  },
  {
   "cell_type": "code",
   "execution_count": 0,
   "metadata": {
    "application/vnd.databricks.v1+cell": {
     "cellMetadata": {
      "byteLimit": 2048000,
      "rowLimit": 10000
     },
     "inputWidgets": {},
     "nuid": "77f3d9f4-a8d8-4a86-ac9d-ccaa70ddd0ca",
     "showTitle": false,
     "tableResultSettingsMap": {},
     "title": ""
    }
   },
   "outputs": [],
   "source": [
    "display(dbutils.fs.ls(\"/mnt/raw\"))\n",
    "\n"
   ]
  },
  {
   "cell_type": "code",
   "execution_count": 0,
   "metadata": {
    "application/vnd.databricks.v1+cell": {
     "cellMetadata": {
      "byteLimit": 2048000,
      "rowLimit": 10000
     },
     "inputWidgets": {},
     "nuid": "3acc5e9c-0756-45d9-8ba0-5aa54adc1015",
     "showTitle": false,
     "tableResultSettingsMap": {},
     "title": ""
    }
   },
   "outputs": [],
   "source": [
    "# Define checkpoint location in DBFS instead of abfss\n",
    "checkpoint_location = \"dbfs:/mnt/silver/checkpoints/\"\n",
    "\n",
    "df = spark.readStream \\\n",
    "    .format(\"cloudFiles\") \\\n",
    "    .option(\"cloudFiles.format\", \"csv\") \\\n",
    "    .option(\"cloudFiles.schemaLocation\", checkpoint_location) \\\n",
    "    .load(\"dbfs:/mnt/raw/\")  # Using mounted path instead of abfss\n",
    "\n"
   ]
  },
  {
   "cell_type": "code",
   "execution_count": 0,
   "metadata": {
    "application/vnd.databricks.v1+cell": {
     "cellMetadata": {
      "byteLimit": 2048000,
      "rowLimit": 10000
     },
     "inputWidgets": {},
     "nuid": "0fe9a50d-c4bf-4517-afd8-ca76ea875b8a",
     "showTitle": false,
     "tableResultSettingsMap": {},
     "title": ""
    }
   },
   "outputs": [],
   "source": [
    "df.display()\n"
   ]
  },
  {
   "cell_type": "code",
   "execution_count": 0,
   "metadata": {
    "application/vnd.databricks.v1+cell": {
     "cellMetadata": {
      "byteLimit": 2048000,
      "rowLimit": 10000
     },
     "inputWidgets": {},
     "nuid": "78ccc845-04e3-461d-93b7-aafa9092906d",
     "showTitle": false,
     "tableResultSettingsMap": {},
     "title": ""
    }
   },
   "outputs": [],
   "source": [
    "df.writeStream \\\n",
    "    .outputMode(\"append\") \\\n",
    "    .option(\"checkpointLocation\", \"dbfs:/mnt/silver/checkpoints/\") \\\n",
    "    .start(\"dbfs:/mnt/bronze/netflix_titles\")"
   ]
  }
 ],
 "metadata": {
  "application/vnd.databricks.v1+notebook": {
   "computePreferences": null,
   "dashboards": [],
   "environmentMetadata": {
    "base_environment": "",
    "environment_version": "2"
   },
   "language": "python",
   "notebookMetadata": {
    "pythonIndentUnit": 4
   },
   "notebookName": "1_Autoloader",
   "widgets": {}
  },
  "language_info": {
   "name": "python"
  }
 },
 "nbformat": 4,
 "nbformat_minor": 0
}
